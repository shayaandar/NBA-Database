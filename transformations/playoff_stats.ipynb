{
 "cells": [
  {
   "cell_type": "code",
   "execution_count": 1,
   "metadata": {},
   "outputs": [],
   "source": [
    "import sys \n",
    "sys.path.append('/Users/shayaandar/nba/nbagoat/database')\n",
    "import main_database  \n",
    "import sqlite3\n",
    "import os\n",
    "import pandas as pd \n",
    "import data_functions"
   ]
  },
  {
   "cell_type": "code",
   "execution_count": 2,
   "metadata": {},
   "outputs": [],
   "source": [
    "# Creating tables \n",
    "cur, conn = main_database.set_up_database('NBA_statistics.db')\n",
    "df = pd.read_sql_query('SELECT * FROM vw_playoffstats',conn)"
   ]
  },
  {
   "cell_type": "code",
   "execution_count": null,
   "metadata": {},
   "outputs": [],
   "source": [
    "df[['start_season','end']] = df['season_id'].str.split('-',expand=True)\n",
    "df['start_season'] = df['start_season'].astype(int)"
   ]
  },
  {
   "cell_type": "code",
   "execution_count": null,
   "metadata": {},
   "outputs": [
    {
     "data": {
      "text/html": [
       "<div>\n",
       "<style scoped>\n",
       "    .dataframe tbody tr th:only-of-type {\n",
       "        vertical-align: middle;\n",
       "    }\n",
       "\n",
       "    .dataframe tbody tr th {\n",
       "        vertical-align: top;\n",
       "    }\n",
       "\n",
       "    .dataframe thead th {\n",
       "        text-align: right;\n",
       "    }\n",
       "</style>\n",
       "<table border=\"1\" class=\"dataframe\">\n",
       "  <thead>\n",
       "    <tr style=\"text-align: right;\">\n",
       "      <th></th>\n",
       "      <th>name</th>\n",
       "      <th>player_id</th>\n",
       "      <th>season_id</th>\n",
       "      <th>league_id</th>\n",
       "      <th>team</th>\n",
       "      <th>minutes</th>\n",
       "      <th>age</th>\n",
       "      <th>gamesplayed</th>\n",
       "      <th>points</th>\n",
       "      <th>rebounds</th>\n",
       "      <th>...</th>\n",
       "      <th>field_goal_percentage</th>\n",
       "      <th>three_attempts</th>\n",
       "      <th>three_percentage</th>\n",
       "      <th>freethrow_attempts</th>\n",
       "      <th>freethrow_percentage</th>\n",
       "      <th>steals</th>\n",
       "      <th>blocks</th>\n",
       "      <th>turnovers</th>\n",
       "      <th>start_season</th>\n",
       "      <th>end</th>\n",
       "    </tr>\n",
       "  </thead>\n",
       "  <tbody>\n",
       "    <tr>\n",
       "      <th>10236</th>\n",
       "      <td>Nikola Jokic</td>\n",
       "      <td>203999</td>\n",
       "      <td>2022-23</td>\n",
       "      <td>00</td>\n",
       "      <td>DEN</td>\n",
       "      <td>38.9</td>\n",
       "      <td>28</td>\n",
       "      <td>15</td>\n",
       "      <td>29.9</td>\n",
       "      <td>13.3</td>\n",
       "      <td>...</td>\n",
       "      <td>0.538</td>\n",
       "      <td>3.8</td>\n",
       "      <td>0.474</td>\n",
       "      <td>6.8</td>\n",
       "      <td>0.784</td>\n",
       "      <td>1.1</td>\n",
       "      <td>0.9</td>\n",
       "      <td>3.5</td>\n",
       "      <td>2022</td>\n",
       "      <td>23</td>\n",
       "    </tr>\n",
       "  </tbody>\n",
       "</table>\n",
       "<p>1 rows × 22 columns</p>\n",
       "</div>"
      ],
      "text/plain": [
       "               name  player_id season_id league_id team  minutes  age   \n",
       "10236  Nikola Jokic     203999   2022-23        00  DEN     38.9   28  \\\n",
       "\n",
       "       gamesplayed  points  rebounds  ...  field_goal_percentage   \n",
       "10236           15    29.9      13.3  ...                  0.538  \\\n",
       "\n",
       "       three_attempts  three_percentage  freethrow_attempts   \n",
       "10236             3.8             0.474                 6.8  \\\n",
       "\n",
       "       freethrow_percentage  steals  blocks  turnovers  start_season  end  \n",
       "10236                 0.784     1.1     0.9        3.5          2022   23  \n",
       "\n",
       "[1 rows x 22 columns]"
      ]
     },
     "execution_count": 17,
     "metadata": {},
     "output_type": "execute_result"
    }
   ],
   "source": [
    "current_playoffs = df[df['start_season']==2022]\n",
    "current_playoffs[current_playoffs['name']=='Nikola Jokic']"
   ]
  },
  {
   "cell_type": "code",
   "execution_count": null,
   "metadata": {},
   "outputs": [
    {
     "data": {
      "text/html": [
       "<div>\n",
       "<style scoped>\n",
       "    .dataframe tbody tr th:only-of-type {\n",
       "        vertical-align: middle;\n",
       "    }\n",
       "\n",
       "    .dataframe tbody tr th {\n",
       "        vertical-align: top;\n",
       "    }\n",
       "\n",
       "    .dataframe thead th {\n",
       "        text-align: right;\n",
       "    }\n",
       "</style>\n",
       "<table border=\"1\" class=\"dataframe\">\n",
       "  <thead>\n",
       "    <tr style=\"text-align: right;\">\n",
       "      <th></th>\n",
       "      <th>name</th>\n",
       "      <th>player_id</th>\n",
       "      <th>season_id</th>\n",
       "      <th>league_id</th>\n",
       "      <th>team</th>\n",
       "      <th>minutes</th>\n",
       "      <th>age</th>\n",
       "      <th>gamesplayed</th>\n",
       "      <th>points</th>\n",
       "      <th>rebounds</th>\n",
       "      <th>...</th>\n",
       "      <th>field_goal_percentage</th>\n",
       "      <th>three_attempts</th>\n",
       "      <th>three_percentage</th>\n",
       "      <th>freethrow_attempts</th>\n",
       "      <th>freethrow_percentage</th>\n",
       "      <th>steals</th>\n",
       "      <th>blocks</th>\n",
       "      <th>turnovers</th>\n",
       "      <th>start_season</th>\n",
       "      <th>end</th>\n",
       "    </tr>\n",
       "  </thead>\n",
       "  <tbody>\n",
       "    <tr>\n",
       "      <th>10650</th>\n",
       "      <td>Bam Adebayo</td>\n",
       "      <td>1628389</td>\n",
       "      <td>2022-23</td>\n",
       "      <td>00</td>\n",
       "      <td>MIA</td>\n",
       "      <td>35.6</td>\n",
       "      <td>25</td>\n",
       "      <td>18</td>\n",
       "      <td>16.8</td>\n",
       "      <td>9.2</td>\n",
       "      <td>...</td>\n",
       "      <td>0.492</td>\n",
       "      <td>0.1</td>\n",
       "      <td>0.0</td>\n",
       "      <td>4.1</td>\n",
       "      <td>0.797</td>\n",
       "      <td>1.0</td>\n",
       "      <td>0.6</td>\n",
       "      <td>2.8</td>\n",
       "      <td>2022</td>\n",
       "      <td>23</td>\n",
       "    </tr>\n",
       "  </tbody>\n",
       "</table>\n",
       "<p>1 rows × 22 columns</p>\n",
       "</div>"
      ],
      "text/plain": [
       "              name  player_id season_id league_id team  minutes  age   \n",
       "10650  Bam Adebayo    1628389   2022-23        00  MIA     35.6   25  \\\n",
       "\n",
       "       gamesplayed  points  rebounds  ...  field_goal_percentage   \n",
       "10650           18    16.8       9.2  ...                  0.492  \\\n",
       "\n",
       "       three_attempts  three_percentage  freethrow_attempts   \n",
       "10650             0.1               0.0                 4.1  \\\n",
       "\n",
       "       freethrow_percentage  steals  blocks  turnovers  start_season  end  \n",
       "10650                 0.797     1.0     0.6        2.8          2022   23  \n",
       "\n",
       "[1 rows x 22 columns]"
      ]
     },
     "execution_count": 22,
     "metadata": {},
     "output_type": "execute_result"
    }
   ],
   "source": [
    "x=''\n",
    "current_playoffs[current_playoffs['name']==x]"
   ]
  },
  {
   "cell_type": "code",
   "execution_count": null,
   "metadata": {},
   "outputs": [],
   "source": []
  }
 ],
 "metadata": {
  "kernelspec": {
   "display_name": "venv",
   "language": "python",
   "name": "python3"
  },
  "language_info": {
   "codemirror_mode": {
    "name": "ipython",
    "version": 3
   },
   "file_extension": ".py",
   "mimetype": "text/x-python",
   "name": "python",
   "nbconvert_exporter": "python",
   "pygments_lexer": "ipython3",
   "version": "3.11.3"
  },
  "orig_nbformat": 4
 },
 "nbformat": 4,
 "nbformat_minor": 2
}
