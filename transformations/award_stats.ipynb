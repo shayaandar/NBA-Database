{
 "cells": [
  {
   "cell_type": "code",
   "execution_count": 3,
   "metadata": {},
   "outputs": [],
   "source": [
    "import sys \n",
    "sys.path.append('/Users/shayaandar/nba/nbagoat/database')\n",
    "import main_database  \n",
    "import sqlite3\n",
    "import os\n",
    "import pandas as pd "
   ]
  },
  {
   "cell_type": "code",
   "execution_count": 4,
   "metadata": {},
   "outputs": [
    {
     "data": {
      "text/plain": [
       "name\n",
       "Kobe Bryant        86\n",
       "Michael Jordan     94\n",
       "LeBron James      154\n",
       "Name: description, dtype: int64"
      ]
     },
     "execution_count": 4,
     "metadata": {},
     "output_type": "execute_result"
    }
   ],
   "source": [
    "# Creating tables \n",
    "cur, conn = main_database.set_up_database('NBA_statistics.db')\n",
    "df = pd.read_sql_query('SELECT * FROM player_awards',conn)"
   ]
  },
  {
   "cell_type": "code",
   "execution_count": 26,
   "metadata": {},
   "outputs": [
    {
     "data": {
      "text/plain": [
       "name\n",
       "LeBron James           43\n",
       "Kareem Abdul-Jabbar    44\n",
       "Michael Jordan         50\n",
       "Name: description, dtype: int64"
      ]
     },
     "execution_count": 26,
     "metadata": {},
     "output_type": "execute_result"
    }
   ],
   "source": [
    "dfaward = df[df['description']!='NBA Player of the Week']\n",
    "dfaward = dfaward[dfaward['description']!='NBA Player of the Month']\n",
    "dfaward = dfaward[dfaward['description']!='NBA Rookie of the Month']\n",
    "award_count = dfaward.groupby('name')['description'].count().sort_values()[-3:] \n",
    "award_count"
   ]
  },
  {
   "cell_type": "code",
   "execution_count": 27,
   "metadata": {},
   "outputs": [
    {
     "data": {
      "text/plain": [
       "description\n",
       "All-Defensive Team                                     6\n",
       "All-NBA                                               19\n",
       "All-Rookie Team                                        1\n",
       "NBA All-Star Most Valuable Player                      3\n",
       "NBA Finals Most Valuable Player                        4\n",
       "NBA Most Valuable Player                               4\n",
       "NBA Rookie of the Year                                 1\n",
       "NBA Sporting News Most Valuable Player of the Year     1\n",
       "NBA Sporting News Rookie of the Year                   1\n",
       "Olympic Bronze Medal                                   1\n",
       "Olympic Gold Medal                                     2\n",
       "Name: player_id, dtype: int64"
      ]
     },
     "execution_count": 27,
     "metadata": {},
     "output_type": "execute_result"
    }
   ],
   "source": [
    "df_lebron = dfaward[dfaward['name']=='LeBron James']\n",
    "lebron_award_count = df_lebron.groupby('description')['player_id'].count()\n",
    "lebron_award_count"
   ]
  },
  {
   "cell_type": "code",
   "execution_count": 29,
   "metadata": {},
   "outputs": [
    {
     "data": {
      "text/plain": [
       "description\n",
       "All-Defensive Team                                     9\n",
       "All-NBA                                               11\n",
       "All-Rookie Team                                        1\n",
       "Hall of Fame Inductee                                  1\n",
       "IBM Award                                              2\n",
       "NBA All-Star Most Valuable Player                      3\n",
       "NBA Defensive Player of the Year                       1\n",
       "NBA Finals Most Valuable Player                        6\n",
       "NBA Most Valuable Player                               5\n",
       "NBA Rookie of the Year                                 1\n",
       "NBA Sporting News Most Valuable Player of the Year     7\n",
       "NBA Sporting News Rookie of the Year                   1\n",
       "Olympic Gold Medal                                     2\n",
       "Name: player_id, dtype: int64"
      ]
     },
     "execution_count": 29,
     "metadata": {},
     "output_type": "execute_result"
    }
   ],
   "source": [
    "df_jordan = dfaward[dfaward['name']=='Michael Jordan']\n",
    "df_jordan_count = df_jordan.groupby('description')['player_id'].count()\n",
    "df_jordan_count"
   ]
  },
  {
   "cell_type": "code",
   "execution_count": 30,
   "metadata": {},
   "outputs": [
    {
     "data": {
      "text/plain": [
       "description\n",
       "All-Defensive Team                                    11\n",
       "All-NBA                                               15\n",
       "All-Rookie Team                                        1\n",
       "Hall of Fame Inductee                                  1\n",
       "NBA Finals Most Valuable Player                        2\n",
       "NBA Most Valuable Player                               6\n",
       "NBA Rookie of the Year                                 1\n",
       "NBA Sporting News Most Valuable Player of the Year     6\n",
       "NBA Sporting News Rookie of the Year                   1\n",
       "Name: player_id, dtype: int64"
      ]
     },
     "execution_count": 30,
     "metadata": {},
     "output_type": "execute_result"
    }
   ],
   "source": [
    "df_kaj = dfaward[dfaward['name']=='Kareem Abdul-Jabbar']\n",
    "df_kaj_count = df_kaj.groupby('description')['player_id'].count()\n",
    "df_kaj_count"
   ]
  },
  {
   "cell_type": "code",
   "execution_count": null,
   "metadata": {},
   "outputs": [],
   "source": []
  }
 ],
 "metadata": {
  "kernelspec": {
   "display_name": ".venv",
   "language": "python",
   "name": "python3"
  },
  "language_info": {
   "codemirror_mode": {
    "name": "ipython",
    "version": 3
   },
   "file_extension": ".py",
   "mimetype": "text/x-python",
   "name": "python",
   "nbconvert_exporter": "python",
   "pygments_lexer": "ipython3",
   "version": "3.11.3"
  },
  "orig_nbformat": 4
 },
 "nbformat": 4,
 "nbformat_minor": 2
}
